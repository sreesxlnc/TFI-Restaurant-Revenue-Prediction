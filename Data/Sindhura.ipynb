{
 "cells": [
  {
   "cell_type": "code",
   "execution_count": 1,
   "metadata": {
    "collapsed": false
   },
   "outputs": [],
   "source": [
    "import pandas as pd\n",
    "\n",
    "import numpy as np\n",
    "import matplotlib.pyplot as plt\n",
    "plt.style.use('ggplot')\n",
    "%matplotlib inline\n",
    "import warnings\n",
    "\n",
    "warnings.filterwarnings(\"ignore\")\n",
    "#pd.set_option('display.height', 1000)\n",
    "pd.set_option('display.max_rows', 500)\n",
    "pd.set_option('display.max_columns', 500)\n",
    "pd.set_option('display.width', 1000)"
   ]
  },
  {
   "cell_type": "code",
   "execution_count": 2,
   "metadata": {
    "collapsed": true
   },
   "outputs": [],
   "source": [
    "# Read the CSV into a pandas dataframe\n",
    "df = pd.read_csv('c://Users//fhd330//Pictures//LoanData.csv', index_col=None)"
   ]
  },
  {
   "cell_type": "code",
   "execution_count": 3,
   "metadata": {
    "collapsed": false
   },
   "outputs": [
    {
     "data": {
      "text/plain": [
       "(10027, 21)"
      ]
     },
     "execution_count": 3,
     "metadata": {},
     "output_type": "execute_result"
    }
   ],
   "source": [
    "#verify the data\n",
    "df.shape"
   ]
  },
  {
   "cell_type": "code",
   "execution_count": 4,
   "metadata": {
    "collapsed": false
   },
   "outputs": [
    {
     "data": {
      "text/plain": [
       "Index([u'Loan Amount', u'Funded Amount', u'Loan Term', u'Interest Rate', u'Loan Grade', u'Loan SubGrade', u'Employee Title', u'Employemen Length', u'Annual Income', u'Verification Status', u'Loan Issued Date', u'Loan Status', u'Loan Purpose', u'Title', u'Address State', u'Month since last Delinquency', u'Outstanding Principal', u'Total Payment', u'Total Recvd Principal', u'Total Recvd Interest', u'Total Recvd Late fees'], dtype='object')"
      ]
     },
     "execution_count": 4,
     "metadata": {},
     "output_type": "execute_result"
    }
   ],
   "source": [
    "df.columns"
   ]
  },
  {
   "cell_type": "code",
   "execution_count": 5,
   "metadata": {
    "collapsed": false
   },
   "outputs": [
    {
     "data": {
      "text/html": [
       "<div>\n",
       "<table border=\"1\" class=\"dataframe\">\n",
       "  <thead>\n",
       "    <tr style=\"text-align: right;\">\n",
       "      <th></th>\n",
       "      <th>Loan Amount</th>\n",
       "      <th>Funded Amount</th>\n",
       "      <th>Loan Term</th>\n",
       "      <th>Interest Rate</th>\n",
       "      <th>Loan Grade</th>\n",
       "      <th>Loan SubGrade</th>\n",
       "      <th>Employee Title</th>\n",
       "      <th>Employemen Length</th>\n",
       "      <th>Annual Income</th>\n",
       "      <th>Verification Status</th>\n",
       "      <th>Loan Issued Date</th>\n",
       "      <th>Loan Status</th>\n",
       "      <th>Loan Purpose</th>\n",
       "      <th>Title</th>\n",
       "      <th>Address State</th>\n",
       "      <th>Month since last Delinquency</th>\n",
       "      <th>Outstanding Principal</th>\n",
       "      <th>Total Payment</th>\n",
       "      <th>Total Recvd Principal</th>\n",
       "      <th>Total Recvd Interest</th>\n",
       "      <th>Total Recvd Late fees</th>\n",
       "    </tr>\n",
       "  </thead>\n",
       "  <tbody>\n",
       "    <tr>\n",
       "      <th>0</th>\n",
       "      <td>2500</td>\n",
       "      <td>2500</td>\n",
       "      <td>60 months</td>\n",
       "      <td>15.27%</td>\n",
       "      <td>C</td>\n",
       "      <td>C4</td>\n",
       "      <td>Ryder</td>\n",
       "      <td>&lt; 1 year</td>\n",
       "      <td>30000.0</td>\n",
       "      <td>Source Verified</td>\n",
       "      <td>11-Dec</td>\n",
       "      <td>Charged Off</td>\n",
       "      <td>car</td>\n",
       "      <td>bike</td>\n",
       "      <td>GA</td>\n",
       "      <td>NaN</td>\n",
       "      <td>0</td>\n",
       "      <td>1014.53</td>\n",
       "      <td>456.46</td>\n",
       "      <td>435.17</td>\n",
       "      <td>0.0</td>\n",
       "    </tr>\n",
       "    <tr>\n",
       "      <th>1</th>\n",
       "      <td>5600</td>\n",
       "      <td>5600</td>\n",
       "      <td>60 months</td>\n",
       "      <td>21.28%</td>\n",
       "      <td>F</td>\n",
       "      <td>F2</td>\n",
       "      <td>NaN</td>\n",
       "      <td>4 years</td>\n",
       "      <td>40000.0</td>\n",
       "      <td>Source Verified</td>\n",
       "      <td>11-Dec</td>\n",
       "      <td>Charged Off</td>\n",
       "      <td>small_business</td>\n",
       "      <td>Expand Business &amp; Buy Debt Portfolio</td>\n",
       "      <td>CA</td>\n",
       "      <td>NaN</td>\n",
       "      <td>0</td>\n",
       "      <td>647.50</td>\n",
       "      <td>162.02</td>\n",
       "      <td>294.94</td>\n",
       "      <td>0.0</td>\n",
       "    </tr>\n",
       "    <tr>\n",
       "      <th>2</th>\n",
       "      <td>5375</td>\n",
       "      <td>5375</td>\n",
       "      <td>60 months</td>\n",
       "      <td>12.69%</td>\n",
       "      <td>B</td>\n",
       "      <td>B5</td>\n",
       "      <td>Starbucks</td>\n",
       "      <td>&lt; 1 year</td>\n",
       "      <td>15000.0</td>\n",
       "      <td>Verified</td>\n",
       "      <td>11-Dec</td>\n",
       "      <td>Charged Off</td>\n",
       "      <td>other</td>\n",
       "      <td>Building my credit history.</td>\n",
       "      <td>TX</td>\n",
       "      <td>NaN</td>\n",
       "      <td>0</td>\n",
       "      <td>1484.59</td>\n",
       "      <td>673.48</td>\n",
       "      <td>533.42</td>\n",
       "      <td>0.0</td>\n",
       "    </tr>\n",
       "    <tr>\n",
       "      <th>3</th>\n",
       "      <td>9000</td>\n",
       "      <td>9000</td>\n",
       "      <td>36 months</td>\n",
       "      <td>13.49%</td>\n",
       "      <td>C</td>\n",
       "      <td>C1</td>\n",
       "      <td>Va. Dept of Conservation/Recreation</td>\n",
       "      <td>&lt; 1 year</td>\n",
       "      <td>30000.0</td>\n",
       "      <td>Source Verified</td>\n",
       "      <td>11-Dec</td>\n",
       "      <td>Charged Off</td>\n",
       "      <td>debt_consolidation</td>\n",
       "      <td>freedom</td>\n",
       "      <td>VA</td>\n",
       "      <td>NaN</td>\n",
       "      <td>0</td>\n",
       "      <td>2277.32</td>\n",
       "      <td>1256.14</td>\n",
       "      <td>570.26</td>\n",
       "      <td>0.0</td>\n",
       "    </tr>\n",
       "    <tr>\n",
       "      <th>4</th>\n",
       "      <td>10000</td>\n",
       "      <td>10000</td>\n",
       "      <td>36 months</td>\n",
       "      <td>10.65%</td>\n",
       "      <td>B</td>\n",
       "      <td>B2</td>\n",
       "      <td>SFMTA</td>\n",
       "      <td>3 years</td>\n",
       "      <td>100000.0</td>\n",
       "      <td>Source Verified</td>\n",
       "      <td>11-Dec</td>\n",
       "      <td>Charged Off</td>\n",
       "      <td>other</td>\n",
       "      <td>Other Loan</td>\n",
       "      <td>CA</td>\n",
       "      <td>NaN</td>\n",
       "      <td>0</td>\n",
       "      <td>7471.99</td>\n",
       "      <td>5433.47</td>\n",
       "      <td>1393.42</td>\n",
       "      <td>0.0</td>\n",
       "    </tr>\n",
       "  </tbody>\n",
       "</table>\n",
       "</div>"
      ],
      "text/plain": [
       "   Loan Amount  Funded Amount   Loan Term Interest Rate Loan Grade Loan SubGrade                       Employee Title Employemen Length  Annual Income Verification Status Loan Issued Date  Loan Status        Loan Purpose                                 Title Address State  Month since last Delinquency  Outstanding Principal  Total Payment  Total Recvd Principal  Total Recvd Interest  Total Recvd Late fees\n",
       "0         2500           2500   60 months        15.27%          C            C4                                Ryder          < 1 year        30000.0     Source Verified           11-Dec  Charged Off                 car                                  bike            GA                           NaN                      0        1014.53                 456.46                435.17                    0.0\n",
       "1         5600           5600   60 months        21.28%          F            F2                                  NaN           4 years        40000.0     Source Verified           11-Dec  Charged Off      small_business  Expand Business & Buy Debt Portfolio            CA                           NaN                      0         647.50                 162.02                294.94                    0.0\n",
       "2         5375           5375   60 months        12.69%          B            B5                            Starbucks          < 1 year        15000.0            Verified           11-Dec  Charged Off               other           Building my credit history.            TX                           NaN                      0        1484.59                 673.48                533.42                    0.0\n",
       "3         9000           9000   36 months        13.49%          C            C1  Va. Dept of Conservation/Recreation          < 1 year        30000.0     Source Verified           11-Dec  Charged Off  debt_consolidation                               freedom            VA                           NaN                      0        2277.32                1256.14                570.26                    0.0\n",
       "4        10000          10000   36 months        10.65%          B            B2                                SFMTA           3 years       100000.0     Source Verified           11-Dec  Charged Off               other                            Other Loan            CA                           NaN                      0        7471.99                5433.47               1393.42                    0.0"
      ]
     },
     "execution_count": 5,
     "metadata": {},
     "output_type": "execute_result"
    }
   ],
   "source": [
    "# top 5 rows\n",
    "df.head()"
   ]
  },
  {
   "cell_type": "code",
   "execution_count": 6,
   "metadata": {
    "collapsed": false,
    "scrolled": true
   },
   "outputs": [
    {
     "data": {
      "text/plain": [
       "Loan Amount                        0\n",
       "Funded Amount                      0\n",
       "Loan Term                          0\n",
       "Interest Rate                      0\n",
       "Loan Grade                         0\n",
       "Loan SubGrade                      0\n",
       "Employee Title                   729\n",
       "Employemen Length                  0\n",
       "Annual Income                      0\n",
       "Verification Status                0\n",
       "Loan Issued Date                   0\n",
       "Loan Status                        0\n",
       "Loan Purpose                       0\n",
       "Title                              0\n",
       "Address State                      0\n",
       "Month since last Delinquency    6725\n",
       "Outstanding Principal              0\n",
       "Total Payment                      0\n",
       "Total Recvd Principal              0\n",
       "Total Recvd Interest               0\n",
       "Total Recvd Late fees              0\n",
       "dtype: int64"
      ]
     },
     "execution_count": 6,
     "metadata": {},
     "output_type": "execute_result"
    }
   ],
   "source": [
    "#check the number of missing values in the data\n",
    "df.isnull().sum()"
   ]
  },
  {
   "cell_type": "code",
   "execution_count": 7,
   "metadata": {
    "collapsed": false,
    "scrolled": true
   },
   "outputs": [
    {
     "data": {
      "text/html": [
       "<div>\n",
       "<table border=\"1\" class=\"dataframe\">\n",
       "  <thead>\n",
       "    <tr style=\"text-align: right;\">\n",
       "      <th></th>\n",
       "      <th>Loan Amount</th>\n",
       "      <th>Funded Amount</th>\n",
       "      <th>Annual Income</th>\n",
       "      <th>Month since last Delinquency</th>\n",
       "      <th>Outstanding Principal</th>\n",
       "      <th>Total Payment</th>\n",
       "      <th>Total Recvd Principal</th>\n",
       "      <th>Total Recvd Interest</th>\n",
       "      <th>Total Recvd Late fees</th>\n",
       "    </tr>\n",
       "  </thead>\n",
       "  <tbody>\n",
       "    <tr>\n",
       "      <th>count</th>\n",
       "      <td>10027.000000</td>\n",
       "      <td>10027.000000</td>\n",
       "      <td>1.002700e+04</td>\n",
       "      <td>3302.000000</td>\n",
       "      <td>10027.0</td>\n",
       "      <td>10027.000000</td>\n",
       "      <td>10027.000000</td>\n",
       "      <td>10027.000000</td>\n",
       "      <td>10027.000000</td>\n",
       "    </tr>\n",
       "    <tr>\n",
       "      <th>mean</th>\n",
       "      <td>12810.187494</td>\n",
       "      <td>12634.501845</td>\n",
       "      <td>6.808445e+04</td>\n",
       "      <td>37.324046</td>\n",
       "      <td>0.0</td>\n",
       "      <td>12746.584869</td>\n",
       "      <td>9662.374223</td>\n",
       "      <td>2817.242303</td>\n",
       "      <td>1.665958</td>\n",
       "    </tr>\n",
       "    <tr>\n",
       "      <th>std</th>\n",
       "      <td>8472.265454</td>\n",
       "      <td>8273.832939</td>\n",
       "      <td>4.865705e+04</td>\n",
       "      <td>21.421714</td>\n",
       "      <td>0.0</td>\n",
       "      <td>10608.584612</td>\n",
       "      <td>8158.253608</td>\n",
       "      <td>3284.119921</td>\n",
       "      <td>7.954185</td>\n",
       "    </tr>\n",
       "    <tr>\n",
       "      <th>min</th>\n",
       "      <td>1000.000000</td>\n",
       "      <td>1000.000000</td>\n",
       "      <td>6.000000e+03</td>\n",
       "      <td>1.000000</td>\n",
       "      <td>0.0</td>\n",
       "      <td>0.000000</td>\n",
       "      <td>0.000000</td>\n",
       "      <td>0.000000</td>\n",
       "      <td>0.000000</td>\n",
       "    </tr>\n",
       "    <tr>\n",
       "      <th>25%</th>\n",
       "      <td>6000.000000</td>\n",
       "      <td>6000.000000</td>\n",
       "      <td>4.080450e+04</td>\n",
       "      <td>NaN</td>\n",
       "      <td>0.0</td>\n",
       "      <td>4940.450000</td>\n",
       "      <td>3300.000000</td>\n",
       "      <td>711.955000</td>\n",
       "      <td>0.000000</td>\n",
       "    </tr>\n",
       "    <tr>\n",
       "      <th>50%</th>\n",
       "      <td>11000.000000</td>\n",
       "      <td>11000.000000</td>\n",
       "      <td>5.900000e+04</td>\n",
       "      <td>NaN</td>\n",
       "      <td>0.0</td>\n",
       "      <td>9720.494844</td>\n",
       "      <td>7250.000000</td>\n",
       "      <td>1574.800000</td>\n",
       "      <td>0.000000</td>\n",
       "    </tr>\n",
       "    <tr>\n",
       "      <th>75%</th>\n",
       "      <td>17400.000000</td>\n",
       "      <td>17000.000000</td>\n",
       "      <td>8.100000e+04</td>\n",
       "      <td>NaN</td>\n",
       "      <td>0.0</td>\n",
       "      <td>17411.836095</td>\n",
       "      <td>14000.000000</td>\n",
       "      <td>3626.485000</td>\n",
       "      <td>0.000000</td>\n",
       "    </tr>\n",
       "    <tr>\n",
       "      <th>max</th>\n",
       "      <td>35000.000000</td>\n",
       "      <td>35000.000000</td>\n",
       "      <td>1.782000e+06</td>\n",
       "      <td>86.000000</td>\n",
       "      <td>0.0</td>\n",
       "      <td>58886.473430</td>\n",
       "      <td>35000.010000</td>\n",
       "      <td>23886.470000</td>\n",
       "      <td>180.200000</td>\n",
       "    </tr>\n",
       "  </tbody>\n",
       "</table>\n",
       "</div>"
      ],
      "text/plain": [
       "        Loan Amount  Funded Amount  Annual Income  Month since last Delinquency  Outstanding Principal  Total Payment  Total Recvd Principal  Total Recvd Interest  Total Recvd Late fees\n",
       "count  10027.000000   10027.000000   1.002700e+04                   3302.000000                10027.0   10027.000000           10027.000000          10027.000000           10027.000000\n",
       "mean   12810.187494   12634.501845   6.808445e+04                     37.324046                    0.0   12746.584869            9662.374223           2817.242303               1.665958\n",
       "std     8472.265454    8273.832939   4.865705e+04                     21.421714                    0.0   10608.584612            8158.253608           3284.119921               7.954185\n",
       "min     1000.000000    1000.000000   6.000000e+03                      1.000000                    0.0       0.000000               0.000000              0.000000               0.000000\n",
       "25%     6000.000000    6000.000000   4.080450e+04                           NaN                    0.0    4940.450000            3300.000000            711.955000               0.000000\n",
       "50%    11000.000000   11000.000000   5.900000e+04                           NaN                    0.0    9720.494844            7250.000000           1574.800000               0.000000\n",
       "75%    17400.000000   17000.000000   8.100000e+04                           NaN                    0.0   17411.836095           14000.000000           3626.485000               0.000000\n",
       "max    35000.000000   35000.000000   1.782000e+06                     86.000000                    0.0   58886.473430           35000.010000          23886.470000             180.200000"
      ]
     },
     "execution_count": 7,
     "metadata": {},
     "output_type": "execute_result"
    }
   ],
   "source": [
    "# quick description of numericle values in the data\n",
    "df.describe()"
   ]
  },
  {
   "cell_type": "markdown",
   "metadata": {},
   "source": [
    "### Lets understand the data more"
   ]
  },
  {
   "cell_type": "code",
   "execution_count": 8,
   "metadata": {
    "collapsed": false,
    "scrolled": false
   },
   "outputs": [
    {
     "data": {
      "text/plain": [
       "<matplotlib.axes._subplots.AxesSubplot at 0xb2fccf8>"
      ]
     },
     "execution_count": 8,
     "metadata": {},
     "output_type": "execute_result"
    },
    {
     "data": {
      "image/png": "[encoded data removed]",
      "text/plain": [
       "<matplotlib.figure.Figure at 0xaf89a58>"
      ]
     },
     "metadata": {},
     "output_type": "display_data"
    }
   ],
   "source": [
    "bins = [0,1000,2000,3000,4000,5000,6000,7000,8000,9000,10000,11000,12000,13000,14000,15000,16000,17000,18000,19000,20000,21000,22000,23000,24000,25000,30000,35000]\n",
    "loanamount = df.groupby(pd.cut(df['Loan Amount'], bins=bins))['Loan Amount'].count()\n",
    "loanamount.plot(kind='bar', figsize=(15,4), color='purple')"
   ]
  },
  {
   "cell_type": "markdown",
   "metadata": {},
   "source": [
    "##### Highest number of loans are in 9k to 10k and 11k to 12k loan amounts"
   ]
  },
  {
   "cell_type": "markdown",
   "metadata": {},
   "source": [
    "###### Lets profile the data based on the following borrower attributes  \n",
    "'Employee Title', 'Employemen Length', 'Annual Income', 'Address State'"
   ]
  },
  {
   "cell_type": "code",
   "execution_count": 9,
   "metadata": {
    "collapsed": false,
    "scrolled": false
   },
   "outputs": [
    {
     "data": {
      "text/html": [
       "<div>\n",
       "<table border=\"1\" class=\"dataframe\">\n",
       "  <thead>\n",
       "    <tr style=\"text-align: right;\">\n",
       "      <th></th>\n",
       "      <th>Employee Title</th>\n",
       "      <th>0</th>\n",
       "    </tr>\n",
       "  </thead>\n",
       "  <tbody>\n",
       "    <tr>\n",
       "      <th>0</th>\n",
       "      <td>US Army</td>\n",
       "      <td>36</td>\n",
       "    </tr>\n",
       "    <tr>\n",
       "      <th>1</th>\n",
       "      <td>Bank of America</td>\n",
       "      <td>34</td>\n",
       "    </tr>\n",
       "    <tr>\n",
       "      <th>2</th>\n",
       "      <td>Kaiser Permanente</td>\n",
       "      <td>22</td>\n",
       "    </tr>\n",
       "    <tr>\n",
       "      <th>3</th>\n",
       "      <td>Walmart</td>\n",
       "      <td>20</td>\n",
       "    </tr>\n",
       "    <tr>\n",
       "      <th>4</th>\n",
       "      <td>UPS</td>\n",
       "      <td>19</td>\n",
       "    </tr>\n",
       "    <tr>\n",
       "      <th>5</th>\n",
       "      <td>IBM</td>\n",
       "      <td>18</td>\n",
       "    </tr>\n",
       "    <tr>\n",
       "      <th>6</th>\n",
       "      <td>AT&amp;T</td>\n",
       "      <td>17</td>\n",
       "    </tr>\n",
       "    <tr>\n",
       "      <th>7</th>\n",
       "      <td>US Navy</td>\n",
       "      <td>14</td>\n",
       "    </tr>\n",
       "    <tr>\n",
       "      <th>8</th>\n",
       "      <td>USAF</td>\n",
       "      <td>14</td>\n",
       "    </tr>\n",
       "    <tr>\n",
       "      <th>9</th>\n",
       "      <td>Walgreens</td>\n",
       "      <td>13</td>\n",
       "    </tr>\n",
       "  </tbody>\n",
       "</table>\n",
       "</div>"
      ],
      "text/plain": [
       "      Employee Title   0\n",
       "0            US Army  36\n",
       "1    Bank of America  34\n",
       "2  Kaiser Permanente  22\n",
       "3            Walmart  20\n",
       "4                UPS  19\n",
       "5                IBM  18\n",
       "6               AT&T  17\n",
       "7            US Navy  14\n",
       "8               USAF  14\n",
       "9          Walgreens  13"
      ]
     },
     "execution_count": 9,
     "metadata": {},
     "output_type": "execute_result"
    }
   ],
   "source": [
    "df.groupby('Employee Title').size().order(ascending=False).reset_index().head(10)"
   ]
  },
  {
   "cell_type": "markdown",
   "metadata": {},
   "source": [
    "#### Above are the top 10 Employee Ttiles across the Loan portfolio"
   ]
  },
  {
   "cell_type": "code",
   "execution_count": 10,
   "metadata": {
    "collapsed": false,
    "scrolled": true
   },
   "outputs": [
    {
     "data": {
      "text/plain": [
       "<matplotlib.axes._subplots.AxesSubplot at 0xb0e31d0>"
      ]
     },
     "execution_count": 10,
     "metadata": {},
     "output_type": "execute_result"
    },
    {
     "data": {
      "image/png": "[encoded data removed]",
      "text/plain": [
       "<matplotlib.figure.Figure at 0xb302358>"
      ]
     },
     "metadata": {},
     "output_type": "display_data"
    }
   ],
   "source": [
    "df.groupby('Employemen Length').size().order(ascending=False).plot(kind=\"bar\", figsize=(16,4),stacked=False,ylim = [0,3000], color='green')"
   ]
  },
  {
   "cell_type": "markdown",
   "metadata": {},
   "source": [
    "##### Majority of the borrowers have more than 10 years  of employement length"
   ]
  },
  {
   "cell_type": "code",
   "execution_count": 11,
   "metadata": {
    "collapsed": false,
    "scrolled": true
   },
   "outputs": [
    {
     "data": {
      "text/plain": [
       "<matplotlib.axes._subplots.AxesSubplot at 0xb7d6278>"
      ]
     },
     "execution_count": 11,
     "metadata": {},
     "output_type": "execute_result"
    },
    {
     "data": {
      "image/png": "[encoded data removed]",
      "text/plain": [
       "<matplotlib.figure.Figure at 0xaf895c0>"
      ]
     },
     "metadata": {},
     "output_type": "display_data"
    }
   ],
   "source": [
    "bins = [0,20000, 40000,60000,80000, 100000,20000000]\n",
    "loanamount = df.groupby(pd.cut(df['Annual Income'], bins=bins))['Annual Income'].count()\n",
    "loanamount.plot(kind='bar', figsize=(15,4), color='purple', ylim= [0,4000])"
   ]
  },
  {
   "cell_type": "markdown",
   "metadata": {},
   "source": [
    "#### Majority of the borrowers have Annual Income in range of 40K to 60K"
   ]
  },
  {
   "cell_type": "code",
   "execution_count": 12,
   "metadata": {
    "collapsed": false,
    "scrolled": false
   },
   "outputs": [
    {
     "data": {
      "text/plain": [
       "<matplotlib.axes._subplots.AxesSubplot at 0xb9e68d0>"
      ]
     },
     "execution_count": 12,
     "metadata": {},
     "output_type": "execute_result"
    },
    {
     "data": {
      "image/png": "[encoded data removed]",
      "text/plain": [
       "<matplotlib.figure.Figure at 0xb8aac88>"
      ]
     },
     "metadata": {},
     "output_type": "display_data"
    }
   ],
   "source": [
    "pd.crosstab(index=[df['Address State']],columns=\"count\").plot(kind=\"bar\", figsize=(16,4),stacked=False,ylim = [0,2000], color='purple')"
   ]
  },
  {
   "cell_type": "markdown",
   "metadata": {},
   "source": [
    "#### California, New york, Florida, and Texas have majority of the loans"
   ]
  },
  {
   "cell_type": "code",
   "execution_count": 13,
   "metadata": {
    "collapsed": false
   },
   "outputs": [
    {
     "data": {
      "text/plain": [
       "<matplotlib.axes._subplots.AxesSubplot at 0xbb3a668>"
      ]
     },
     "execution_count": 13,
     "metadata": {},
     "output_type": "execute_result"
    },
    {
     "data": {
      "image/png": "[encoded data removed]",
      "text/plain": [
       "<matplotlib.figure.Figure at 0xb70c550>"
      ]
     },
     "metadata": {},
     "output_type": "display_data"
    }
   ],
   "source": [
    "pd.crosstab(index=[df['Employemen Length']],columns=df['Loan Status']).plot(kind=\"bar\", figsize=(16,4),stacked=False,ylim = [0,3000])"
   ]
  },
  {
   "cell_type": "code",
   "execution_count": 14,
   "metadata": {
    "collapsed": false
   },
   "outputs": [
    {
     "data": {
      "text/html": [
       "<div>\n",
       "<table border=\"1\" class=\"dataframe\">\n",
       "  <thead>\n",
       "    <tr style=\"text-align: right;\">\n",
       "      <th></th>\n",
       "      <th>Address State</th>\n",
       "      <th>Annual Income</th>\n",
       "    </tr>\n",
       "  </thead>\n",
       "  <tbody>\n",
       "    <tr>\n",
       "      <th>36</th>\n",
       "      <td>TN</td>\n",
       "      <td>120000.000000</td>\n",
       "    </tr>\n",
       "    <tr>\n",
       "      <th>21</th>\n",
       "      <td>MS</td>\n",
       "      <td>106870.000000</td>\n",
       "    </tr>\n",
       "    <tr>\n",
       "      <th>6</th>\n",
       "      <td>CT</td>\n",
       "      <td>78704.230553</td>\n",
       "    </tr>\n",
       "    <tr>\n",
       "      <th>8</th>\n",
       "      <td>DE</td>\n",
       "      <td>78534.272727</td>\n",
       "    </tr>\n",
       "    <tr>\n",
       "      <th>24</th>\n",
       "      <td>NH</td>\n",
       "      <td>76701.263415</td>\n",
       "    </tr>\n",
       "  </tbody>\n",
       "</table>\n",
       "</div>"
      ],
      "text/plain": [
       "   Address State  Annual Income\n",
       "36            TN  120000.000000\n",
       "21            MS  106870.000000\n",
       "6             CT   78704.230553\n",
       "8             DE   78534.272727\n",
       "24            NH   76701.263415"
      ]
     },
     "execution_count": 14,
     "metadata": {},
     "output_type": "execute_result"
    }
   ],
   "source": [
    "pd.pivot_table(df, index=['Address State'], values=['Annual Income']).reset_index().sort(['Annual Income'], ascending=False).head()"
   ]
  },
  {
   "cell_type": "markdown",
   "metadata": {},
   "source": [
    "##### Above are the top 5 states with highest Mean Borrower Annual Income"
   ]
  },
  {
   "cell_type": "code",
   "execution_count": 15,
   "metadata": {
    "collapsed": false,
    "scrolled": true
   },
   "outputs": [
    {
     "data": {
      "text/html": [
       "<div>\n",
       "<table border=\"1\" class=\"dataframe\">\n",
       "  <thead>\n",
       "    <tr style=\"text-align: right;\">\n",
       "      <th></th>\n",
       "      <th>Employee Title</th>\n",
       "      <th>Annual Income</th>\n",
       "    </tr>\n",
       "  </thead>\n",
       "  <tbody>\n",
       "    <tr>\n",
       "      <th>4278</th>\n",
       "      <td>NYCDOE</td>\n",
       "      <td>1782000.0</td>\n",
       "    </tr>\n",
       "    <tr>\n",
       "      <th>5007</th>\n",
       "      <td>RBS Securities</td>\n",
       "      <td>750000.0</td>\n",
       "    </tr>\n",
       "    <tr>\n",
       "      <th>6073</th>\n",
       "      <td>The Ayco Company</td>\n",
       "      <td>725000.0</td>\n",
       "    </tr>\n",
       "    <tr>\n",
       "      <th>5850</th>\n",
       "      <td>Stryker Instruments</td>\n",
       "      <td>686998.0</td>\n",
       "    </tr>\n",
       "    <tr>\n",
       "      <th>6133</th>\n",
       "      <td>The Mayo Clinic</td>\n",
       "      <td>543000.0</td>\n",
       "    </tr>\n",
       "  </tbody>\n",
       "</table>\n",
       "</div>"
      ],
      "text/plain": [
       "           Employee Title  Annual Income\n",
       "4278               NYCDOE      1782000.0\n",
       "5007       RBS Securities       750000.0\n",
       "6073     The Ayco Company       725000.0\n",
       "5850  Stryker Instruments       686998.0\n",
       "6133      The Mayo Clinic       543000.0"
      ]
     },
     "execution_count": 15,
     "metadata": {},
     "output_type": "execute_result"
    }
   ],
   "source": [
    "pd.pivot_table(df, index=['Employee Title'], values=['Annual Income']).reset_index().sort(['Annual Income'], ascending=False).head()"
   ]
  },
  {
   "cell_type": "markdown",
   "metadata": {},
   "source": [
    "#### Of the borrowers, above Employment Areas have the highest Annual Income"
   ]
  },
  {
   "cell_type": "code",
   "execution_count": null,
   "metadata": {
    "collapsed": true
   },
   "outputs": [],
   "source": []
  },
  {
   "cell_type": "markdown",
   "metadata": {},
   "source": [
    "### Lets find out the Insights about Charged Off Loans"
   ]
  },
  {
   "cell_type": "code",
   "execution_count": 16,
   "metadata": {
    "collapsed": false,
    "scrolled": true
   },
   "outputs": [
    {
     "data": {
      "text/html": [
       "<div>\n",
       "<table border=\"1\" class=\"dataframe\">\n",
       "  <thead>\n",
       "    <tr style=\"text-align: right;\">\n",
       "      <th>Loan Issued Date</th>\n",
       "      <th>10-Dec</th>\n",
       "      <th>10-Nov</th>\n",
       "      <th>11-Apr</th>\n",
       "      <th>11-Aug</th>\n",
       "      <th>11-Dec</th>\n",
       "      <th>11-Feb</th>\n",
       "      <th>11-Jan</th>\n",
       "      <th>11-Jul</th>\n",
       "      <th>11-Jun</th>\n",
       "      <th>11-Mar</th>\n",
       "      <th>11-May</th>\n",
       "      <th>11-Nov</th>\n",
       "      <th>11-Oct</th>\n",
       "      <th>11-Sep</th>\n",
       "    </tr>\n",
       "    <tr>\n",
       "      <th>Loan Status</th>\n",
       "      <th></th>\n",
       "      <th></th>\n",
       "      <th></th>\n",
       "      <th></th>\n",
       "      <th></th>\n",
       "      <th></th>\n",
       "      <th></th>\n",
       "      <th></th>\n",
       "      <th></th>\n",
       "      <th></th>\n",
       "      <th></th>\n",
       "      <th></th>\n",
       "      <th></th>\n",
       "      <th></th>\n",
       "    </tr>\n",
       "  </thead>\n",
       "  <tbody>\n",
       "    <tr>\n",
       "      <th>Charged Off</th>\n",
       "      <td>143</td>\n",
       "      <td>84</td>\n",
       "      <td>222</td>\n",
       "      <td>271</td>\n",
       "      <td>431</td>\n",
       "      <td>169</td>\n",
       "      <td>186</td>\n",
       "      <td>282</td>\n",
       "      <td>271</td>\n",
       "      <td>210</td>\n",
       "      <td>290</td>\n",
       "      <td>344</td>\n",
       "      <td>313</td>\n",
       "      <td>308</td>\n",
       "    </tr>\n",
       "    <tr>\n",
       "      <th>Fully Paid</th>\n",
       "      <td>0</td>\n",
       "      <td>0</td>\n",
       "      <td>0</td>\n",
       "      <td>0</td>\n",
       "      <td>1836</td>\n",
       "      <td>0</td>\n",
       "      <td>0</td>\n",
       "      <td>0</td>\n",
       "      <td>0</td>\n",
       "      <td>0</td>\n",
       "      <td>0</td>\n",
       "      <td>1888</td>\n",
       "      <td>1805</td>\n",
       "      <td>974</td>\n",
       "    </tr>\n",
       "  </tbody>\n",
       "</table>\n",
       "</div>"
      ],
      "text/plain": [
       "Loan Issued Date  10-Dec  10-Nov  11-Apr  11-Aug  11-Dec  11-Feb  11-Jan  11-Jul  11-Jun  11-Mar  11-May  11-Nov  11-Oct  11-Sep\n",
       "Loan Status                                                                                                                     \n",
       "Charged Off          143      84     222     271     431     169     186     282     271     210     290     344     313     308\n",
       "Fully Paid             0       0       0       0    1836       0       0       0       0       0       0    1888    1805     974"
      ]
     },
     "execution_count": 16,
     "metadata": {},
     "output_type": "execute_result"
    }
   ],
   "source": [
    "pd.crosstab(columns=df['Loan Issued Date'],index=[df['Loan Status']])"
   ]
  },
  {
   "cell_type": "markdown",
   "metadata": {},
   "source": [
    "###### All the Loans before September 2011 have resulted in Charged Off"
   ]
  },
  {
   "cell_type": "code",
   "execution_count": 17,
   "metadata": {
    "collapsed": false
   },
   "outputs": [],
   "source": [
    "# Removing % from the column to make the column a Float type for further numerical analysis \n",
    "df['Interest Rate'] = df['Interest Rate'].apply(lambda x:x.split('%')[0])\n",
    "df['Interest Rate'] = df['Interest Rate'].astype(float)"
   ]
  },
  {
   "cell_type": "code",
   "execution_count": 18,
   "metadata": {
    "collapsed": true
   },
   "outputs": [],
   "source": [
    "# creating a new column f/i Ratio\n",
    "df['f/i Ratio'] = df['Funded Amount']/df['Annual Income']"
   ]
  },
  {
   "cell_type": "code",
   "execution_count": 19,
   "metadata": {
    "collapsed": false,
    "scrolled": true
   },
   "outputs": [
    {
     "data": {
      "text/plain": [
       "<matplotlib.axes._subplots.AxesSubplot at 0xceb1630>"
      ]
     },
     "execution_count": 19,
     "metadata": {},
     "output_type": "execute_result"
    },
    {
     "data": {
      "image/png": "[encoded data removed]",
      "text/plain": [
       "<matplotlib.figure.Figure at 0xcfa4b00>"
      ]
     },
     "metadata": {},
     "output_type": "display_data"
    }
   ],
   "source": [
    "loan_terms = pd.crosstab(index=df['Loan Status'],columns=[df['Loan Term']])\n",
    "loan_terms.plot(kind=\"bar\", figsize=(10,4),stacked=False, ylim = [200, 5000])"
   ]
  },
  {
   "cell_type": "markdown",
   "metadata": {},
   "source": [
    "##### From the above we can conclude that Longer Loan terms are more probable to be charged off\n",
    "##### And Shorter loans have the high probability of good payment"
   ]
  },
  {
   "cell_type": "code",
   "execution_count": 20,
   "metadata": {
    "collapsed": false,
    "scrolled": false
   },
   "outputs": [
    {
     "data": {
      "text/html": [
       "<div>\n",
       "<table border=\"1\" class=\"dataframe\">\n",
       "  <thead>\n",
       "    <tr style=\"text-align: right;\">\n",
       "      <th></th>\n",
       "      <th>f/i Ratio</th>\n",
       "    </tr>\n",
       "    <tr>\n",
       "      <th>Loan Status</th>\n",
       "      <th></th>\n",
       "    </tr>\n",
       "  </thead>\n",
       "  <tbody>\n",
       "    <tr>\n",
       "      <th>Charged Off</th>\n",
       "      <td>0.224375</td>\n",
       "    </tr>\n",
       "    <tr>\n",
       "      <th>Fully Paid</th>\n",
       "      <td>0.201627</td>\n",
       "    </tr>\n",
       "  </tbody>\n",
       "</table>\n",
       "</div>"
      ],
      "text/plain": [
       "             f/i Ratio\n",
       "Loan Status           \n",
       "Charged Off   0.224375\n",
       "Fully Paid    0.201627"
      ]
     },
     "execution_count": 20,
     "metadata": {},
     "output_type": "execute_result"
    }
   ],
   "source": [
    "pd.pivot_table(df, index=['Loan Status' ], aggfunc='mean', values=['f/i Ratio'])"
   ]
  },
  {
   "cell_type": "markdown",
   "metadata": {},
   "source": [
    "#### Loans with more Funding to Annual Income ratio are more probable to Charged Off but not so significantly"
   ]
  },
  {
   "cell_type": "code",
   "execution_count": 21,
   "metadata": {
    "collapsed": false,
    "scrolled": true
   },
   "outputs": [
    {
     "data": {
      "text/plain": [
       "<matplotlib.axes._subplots.AxesSubplot at 0xd1a4ba8>"
      ]
     },
     "execution_count": 21,
     "metadata": {},
     "output_type": "execute_result"
    },
    {
     "data": {
      "image/png": "[encoded data removed]",
      "text/plain": [
       "<matplotlib.figure.Figure at 0x442fc50>"
      ]
     },
     "metadata": {},
     "output_type": "display_data"
    }
   ],
   "source": [
    "pd.crosstab(index=[df['Loan Grade']],columns=df['Loan Status']).plot(kind=\"bar\", figsize=(16,4),stacked=False,ylim = [0,3000])"
   ]
  },
  {
   "cell_type": "markdown",
   "metadata": {},
   "source": [
    "#### Loan Grade types E,F,G have more Charged off Loans compared to Fully Paid"
   ]
  },
  {
   "cell_type": "code",
   "execution_count": 25,
   "metadata": {
    "collapsed": false
   },
   "outputs": [
    {
     "data": {
      "text/html": [
       "<div>\n",
       "<table border=\"1\" class=\"dataframe\">\n",
       "  <thead>\n",
       "    <tr style=\"text-align: right;\">\n",
       "      <th></th>\n",
       "      <th>Interest Rate</th>\n",
       "      <th>Loan Amount</th>\n",
       "      <th>f/i Ratio</th>\n",
       "    </tr>\n",
       "    <tr>\n",
       "      <th>Loan Grade</th>\n",
       "      <th></th>\n",
       "      <th></th>\n",
       "      <th></th>\n",
       "    </tr>\n",
       "  </thead>\n",
       "  <tbody>\n",
       "    <tr>\n",
       "      <th>A</th>\n",
       "      <td>7.368015</td>\n",
       "      <td>7865.712468</td>\n",
       "      <td>0.168963</td>\n",
       "    </tr>\n",
       "    <tr>\n",
       "      <th>B</th>\n",
       "      <td>11.111129</td>\n",
       "      <td>10952.794118</td>\n",
       "      <td>0.211986</td>\n",
       "    </tr>\n",
       "    <tr>\n",
       "      <th>C</th>\n",
       "      <td>13.916865</td>\n",
       "      <td>11969.321066</td>\n",
       "      <td>0.218360</td>\n",
       "    </tr>\n",
       "    <tr>\n",
       "      <th>D</th>\n",
       "      <td>16.451535</td>\n",
       "      <td>13332.711988</td>\n",
       "      <td>0.231575</td>\n",
       "    </tr>\n",
       "    <tr>\n",
       "      <th>E</th>\n",
       "      <td>18.401437</td>\n",
       "      <td>17240.536437</td>\n",
       "      <td>0.255727</td>\n",
       "    </tr>\n",
       "    <tr>\n",
       "      <th>F</th>\n",
       "      <td>20.533182</td>\n",
       "      <td>20419.008264</td>\n",
       "      <td>0.276296</td>\n",
       "    </tr>\n",
       "    <tr>\n",
       "      <th>G</th>\n",
       "      <td>21.913288</td>\n",
       "      <td>19957.876712</td>\n",
       "      <td>0.280150</td>\n",
       "    </tr>\n",
       "  </tbody>\n",
       "</table>\n",
       "</div>"
      ],
      "text/plain": [
       "            Interest Rate   Loan Amount  f/i Ratio\n",
       "Loan Grade                                        \n",
       "A                7.368015   7865.712468   0.168963\n",
       "B               11.111129  10952.794118   0.211986\n",
       "C               13.916865  11969.321066   0.218360\n",
       "D               16.451535  13332.711988   0.231575\n",
       "E               18.401437  17240.536437   0.255727\n",
       "F               20.533182  20419.008264   0.276296\n",
       "G               21.913288  19957.876712   0.280150"
      ]
     },
     "execution_count": 25,
     "metadata": {},
     "output_type": "execute_result"
    }
   ],
   "source": [
    "# Get only the Charged off accounts\n",
    "chargedoff = df[df['Loan Status']=='Charged Off']\n",
    "pd.pivot_table(chargedoff, index=['Loan Grade'], aggfunc='mean', values=['Loan Amount','f/i Ratio', 'Interest Rate'])"
   ]
  },
  {
   "cell_type": "markdown",
   "metadata": {},
   "source": [
    "#### From the above table we can conclude that , Loans in Grade 'D,'E','F','G' are more probale to be Charged Off\n",
    "###### as they have more \"f/i ratio\" i.e funded amount to Income ratio. "
   ]
  },
  {
   "cell_type": "code",
   "execution_count": 26,
   "metadata": {
    "collapsed": false,
    "scrolled": false
   },
   "outputs": [
    {
     "data": {
      "text/html": [
       "<div>\n",
       "<table border=\"1\" class=\"dataframe\">\n",
       "  <thead>\n",
       "    <tr style=\"text-align: right;\">\n",
       "      <th>Loan Status</th>\n",
       "      <th>Loan Grade</th>\n",
       "      <th>Loan SubGrade</th>\n",
       "      <th>Charged Off</th>\n",
       "      <th>Fully Paid</th>\n",
       "      <th>Chg off/Paid</th>\n",
       "    </tr>\n",
       "  </thead>\n",
       "  <tbody>\n",
       "    <tr>\n",
       "      <th>31</th>\n",
       "      <td>G</td>\n",
       "      <td>G2</td>\n",
       "      <td>23</td>\n",
       "      <td>4</td>\n",
       "      <td>5.750000</td>\n",
       "    </tr>\n",
       "    <tr>\n",
       "      <th>29</th>\n",
       "      <td>F</td>\n",
       "      <td>F5</td>\n",
       "      <td>45</td>\n",
       "      <td>13</td>\n",
       "      <td>3.461538</td>\n",
       "    </tr>\n",
       "    <tr>\n",
       "      <th>32</th>\n",
       "      <td>G</td>\n",
       "      <td>G3</td>\n",
       "      <td>11</td>\n",
       "      <td>5</td>\n",
       "      <td>2.200000</td>\n",
       "    </tr>\n",
       "    <tr>\n",
       "      <th>30</th>\n",
       "      <td>G</td>\n",
       "      <td>G1</td>\n",
       "      <td>26</td>\n",
       "      <td>12</td>\n",
       "      <td>2.166667</td>\n",
       "    </tr>\n",
       "    <tr>\n",
       "      <th>26</th>\n",
       "      <td>F</td>\n",
       "      <td>F2</td>\n",
       "      <td>50</td>\n",
       "      <td>24</td>\n",
       "      <td>2.083333</td>\n",
       "    </tr>\n",
       "    <tr>\n",
       "      <th>34</th>\n",
       "      <td>G</td>\n",
       "      <td>G5</td>\n",
       "      <td>4</td>\n",
       "      <td>2</td>\n",
       "      <td>2.000000</td>\n",
       "    </tr>\n",
       "    <tr>\n",
       "      <th>25</th>\n",
       "      <td>F</td>\n",
       "      <td>F1</td>\n",
       "      <td>74</td>\n",
       "      <td>42</td>\n",
       "      <td>1.761905</td>\n",
       "    </tr>\n",
       "    <tr>\n",
       "      <th>28</th>\n",
       "      <td>F</td>\n",
       "      <td>F4</td>\n",
       "      <td>40</td>\n",
       "      <td>25</td>\n",
       "      <td>1.600000</td>\n",
       "    </tr>\n",
       "    <tr>\n",
       "      <th>24</th>\n",
       "      <td>E</td>\n",
       "      <td>E5</td>\n",
       "      <td>81</td>\n",
       "      <td>58</td>\n",
       "      <td>1.396552</td>\n",
       "    </tr>\n",
       "    <tr>\n",
       "      <th>23</th>\n",
       "      <td>E</td>\n",
       "      <td>E4</td>\n",
       "      <td>82</td>\n",
       "      <td>59</td>\n",
       "      <td>1.389831</td>\n",
       "    </tr>\n",
       "    <tr>\n",
       "      <th>19</th>\n",
       "      <td>D</td>\n",
       "      <td>D5</td>\n",
       "      <td>154</td>\n",
       "      <td>113</td>\n",
       "      <td>1.362832</td>\n",
       "    </tr>\n",
       "    <tr>\n",
       "      <th>20</th>\n",
       "      <td>E</td>\n",
       "      <td>E1</td>\n",
       "      <td>130</td>\n",
       "      <td>104</td>\n",
       "      <td>1.250000</td>\n",
       "    </tr>\n",
       "    <tr>\n",
       "      <th>21</th>\n",
       "      <td>E</td>\n",
       "      <td>E2</td>\n",
       "      <td>112</td>\n",
       "      <td>90</td>\n",
       "      <td>1.244444</td>\n",
       "    </tr>\n",
       "    <tr>\n",
       "      <th>27</th>\n",
       "      <td>F</td>\n",
       "      <td>F3</td>\n",
       "      <td>33</td>\n",
       "      <td>28</td>\n",
       "      <td>1.178571</td>\n",
       "    </tr>\n",
       "    <tr>\n",
       "      <th>22</th>\n",
       "      <td>E</td>\n",
       "      <td>E3</td>\n",
       "      <td>89</td>\n",
       "      <td>87</td>\n",
       "      <td>1.022989</td>\n",
       "    </tr>\n",
       "    <tr>\n",
       "      <th>18</th>\n",
       "      <td>D</td>\n",
       "      <td>D4</td>\n",
       "      <td>139</td>\n",
       "      <td>136</td>\n",
       "      <td>1.022059</td>\n",
       "    </tr>\n",
       "  </tbody>\n",
       "</table>\n",
       "</div>"
      ],
      "text/plain": [
       "Loan Status Loan Grade Loan SubGrade  Charged Off  Fully Paid  Chg off/Paid\n",
       "31                   G            G2           23           4      5.750000\n",
       "29                   F            F5           45          13      3.461538\n",
       "32                   G            G3           11           5      2.200000\n",
       "30                   G            G1           26          12      2.166667\n",
       "26                   F            F2           50          24      2.083333\n",
       "34                   G            G5            4           2      2.000000\n",
       "25                   F            F1           74          42      1.761905\n",
       "28                   F            F4           40          25      1.600000\n",
       "24                   E            E5           81          58      1.396552\n",
       "23                   E            E4           82          59      1.389831\n",
       "19                   D            D5          154         113      1.362832\n",
       "20                   E            E1          130         104      1.250000\n",
       "21                   E            E2          112          90      1.244444\n",
       "27                   F            F3           33          28      1.178571\n",
       "22                   E            E3           89          87      1.022989\n",
       "18                   D            D4          139         136      1.022059"
      ]
     },
     "execution_count": 26,
     "metadata": {},
     "output_type": "execute_result"
    }
   ],
   "source": [
    "# lets Create a new column \"Chg off/Paid\"\n",
    "chargeoff_paid = pd.crosstab(index=[df['Loan Grade'],df['Loan SubGrade']],columns=[df['Loan Status']]).reset_index()\n",
    "chargeoff_paid['Chg off/Paid'] = chargeoff_paid['Charged Off']/ chargeoff_paid['Fully Paid']\n",
    "chargeoff_paid[chargeoff_paid['Chg off/Paid']>1].sort(['Chg off/Paid'], ascending=False)"
   ]
  },
  {
   "cell_type": "markdown",
   "metadata": {},
   "source": [
    "#### Ratio of Charged Off to Full Paid\n",
    "Ratio greater than 1 means more number of Charged Off loans compared to Fully paid loans. \n",
    "Aim is to reduce the loans which fall into the above category."
   ]
  },
  {
   "cell_type": "code",
   "execution_count": 27,
   "metadata": {
    "collapsed": false,
    "scrolled": true
   },
   "outputs": [
    {
     "data": {
      "text/plain": [
       "<matplotlib.axes._subplots.AxesSubplot at 0xdf739b0>"
      ]
     },
     "execution_count": 27,
     "metadata": {},
     "output_type": "execute_result"
    },
    {
     "data": {
      "image/png": "[encoded data removed]",
      "text/plain": [
       "<matplotlib.figure.Figure at 0xddd5b00>"
      ]
     },
     "metadata": {},
     "output_type": "display_data"
    }
   ],
   "source": [
    "pd.crosstab(index=[df['Loan Purpose']],columns=[df['Loan Status']]).plot(kind=\"bar\", figsize=(16,4),stacked=False,ylim = [0,3500])"
   ]
  },
  {
   "cell_type": "markdown",
   "metadata": {},
   "source": [
    "##### Loans taken with the purpose of \"Small Business\" have resulted in more number of Charged Off Loans\n",
    "###### Also Loans with the purpose of 'moving', 'renewable_energy' have high percentage of Charged off Loans"
   ]
  },
  {
   "cell_type": "markdown",
   "metadata": {},
   "source": [
    "##### Lets dig into the above three loan purpose categories and see whether there are any patterns"
   ]
  },
  {
   "cell_type": "code",
   "execution_count": 28,
   "metadata": {
    "collapsed": false
   },
   "outputs": [
    {
     "data": {
      "text/html": [
       "<div>\n",
       "<table border=\"1\" class=\"dataframe\">\n",
       "  <thead>\n",
       "    <tr style=\"text-align: right;\">\n",
       "      <th></th>\n",
       "      <th>Loan Grade</th>\n",
       "      <th>A</th>\n",
       "      <th>B</th>\n",
       "      <th>C</th>\n",
       "      <th>D</th>\n",
       "      <th>E</th>\n",
       "      <th>F</th>\n",
       "      <th>G</th>\n",
       "    </tr>\n",
       "    <tr>\n",
       "      <th>Loan Purpose</th>\n",
       "      <th>Loan Status</th>\n",
       "      <th></th>\n",
       "      <th></th>\n",
       "      <th></th>\n",
       "      <th></th>\n",
       "      <th></th>\n",
       "      <th></th>\n",
       "      <th></th>\n",
       "    </tr>\n",
       "  </thead>\n",
       "  <tbody>\n",
       "    <tr>\n",
       "      <th rowspan=\"2\" valign=\"top\">moving</th>\n",
       "      <th>Charged Off</th>\n",
       "      <td>12</td>\n",
       "      <td>23</td>\n",
       "      <td>12</td>\n",
       "      <td>8</td>\n",
       "      <td>6</td>\n",
       "      <td>1</td>\n",
       "      <td>1</td>\n",
       "    </tr>\n",
       "    <tr>\n",
       "      <th>Fully Paid</th>\n",
       "      <td>26</td>\n",
       "      <td>22</td>\n",
       "      <td>13</td>\n",
       "      <td>6</td>\n",
       "      <td>1</td>\n",
       "      <td>1</td>\n",
       "      <td>0</td>\n",
       "    </tr>\n",
       "    <tr>\n",
       "      <th rowspan=\"2\" valign=\"top\">renewable_energy</th>\n",
       "      <th>Charged Off</th>\n",
       "      <td>3</td>\n",
       "      <td>2</td>\n",
       "      <td>3</td>\n",
       "      <td>0</td>\n",
       "      <td>0</td>\n",
       "      <td>1</td>\n",
       "      <td>1</td>\n",
       "    </tr>\n",
       "    <tr>\n",
       "      <th>Fully Paid</th>\n",
       "      <td>8</td>\n",
       "      <td>4</td>\n",
       "      <td>0</td>\n",
       "      <td>1</td>\n",
       "      <td>0</td>\n",
       "      <td>0</td>\n",
       "      <td>0</td>\n",
       "    </tr>\n",
       "    <tr>\n",
       "      <th rowspan=\"2\" valign=\"top\">small_business</th>\n",
       "      <th>Charged Off</th>\n",
       "      <td>30</td>\n",
       "      <td>70</td>\n",
       "      <td>55</td>\n",
       "      <td>56</td>\n",
       "      <td>34</td>\n",
       "      <td>26</td>\n",
       "      <td>11</td>\n",
       "    </tr>\n",
       "    <tr>\n",
       "      <th>Fully Paid</th>\n",
       "      <td>78</td>\n",
       "      <td>67</td>\n",
       "      <td>43</td>\n",
       "      <td>23</td>\n",
       "      <td>12</td>\n",
       "      <td>9</td>\n",
       "      <td>1</td>\n",
       "    </tr>\n",
       "  </tbody>\n",
       "</table>\n",
       "</div>"
      ],
      "text/plain": [
       "Loan Grade                     A   B   C   D   E   F   G\n",
       "Loan Purpose     Loan Status                            \n",
       "moving           Charged Off  12  23  12   8   6   1   1\n",
       "                 Fully Paid   26  22  13   6   1   1   0\n",
       "renewable_energy Charged Off   3   2   3   0   0   1   1\n",
       "                 Fully Paid    8   4   0   1   0   0   0\n",
       "small_business   Charged Off  30  70  55  56  34  26  11\n",
       "                 Fully Paid   78  67  43  23  12   9   1"
      ]
     },
     "execution_count": 28,
     "metadata": {},
     "output_type": "execute_result"
    }
   ],
   "source": [
    "small_mov_ren = df[(df['Loan Purpose']=='small_business') | (df['Loan Purpose']=='moving') | (df['Loan Purpose']=='renewable_energy')]\n",
    "pd.crosstab(index=[small_mov_ren['Loan Purpose'], small_mov_ren['Loan Status']],columns=[small_mov_ren['Loan Grade']])"
   ]
  },
  {
   "cell_type": "markdown",
   "metadata": {},
   "source": [
    "#### From the above, it is clear that all the Loan Grade types mentioned below have high number of Charged Off Loans\n",
    "###### In the \"small Business\", all types except Loan Grade 'A' \n",
    "###### In the \"moving\", Loan Grade 'B', 'D', 'E','G'\n",
    "###### In the \"renewable_energy\", Grade 'C', 'F', 'G'"
   ]
  },
  {
   "cell_type": "code",
   "execution_count": 29,
   "metadata": {
    "collapsed": false,
    "scrolled": true
   },
   "outputs": [
    {
     "data": {
      "text/html": [
       "<div>\n",
       "<table border=\"1\" class=\"dataframe\">\n",
       "  <thead>\n",
       "    <tr style=\"text-align: right;\">\n",
       "      <th>Employemen Length</th>\n",
       "      <th>1 year</th>\n",
       "      <th>10+ years</th>\n",
       "      <th>2 years</th>\n",
       "      <th>3 years</th>\n",
       "      <th>4 years</th>\n",
       "      <th>5 years</th>\n",
       "      <th>6 years</th>\n",
       "      <th>7 years</th>\n",
       "      <th>8 years</th>\n",
       "      <th>9 years</th>\n",
       "      <th>&lt; 1 year</th>\n",
       "      <th>n/a</th>\n",
       "    </tr>\n",
       "    <tr>\n",
       "      <th>Loan Status</th>\n",
       "      <th></th>\n",
       "      <th></th>\n",
       "      <th></th>\n",
       "      <th></th>\n",
       "      <th></th>\n",
       "      <th></th>\n",
       "      <th></th>\n",
       "      <th></th>\n",
       "      <th></th>\n",
       "      <th></th>\n",
       "      <th></th>\n",
       "      <th></th>\n",
       "    </tr>\n",
       "  </thead>\n",
       "  <tbody>\n",
       "    <tr>\n",
       "      <th>Charged Off</th>\n",
       "      <td>255</td>\n",
       "      <td>910</td>\n",
       "      <td>309</td>\n",
       "      <td>336</td>\n",
       "      <td>274</td>\n",
       "      <td>309</td>\n",
       "      <td>224</td>\n",
       "      <td>167</td>\n",
       "      <td>136</td>\n",
       "      <td>93</td>\n",
       "      <td>342</td>\n",
       "      <td>169</td>\n",
       "    </tr>\n",
       "    <tr>\n",
       "      <th>Fully Paid</th>\n",
       "      <td>464</td>\n",
       "      <td>1632</td>\n",
       "      <td>659</td>\n",
       "      <td>583</td>\n",
       "      <td>560</td>\n",
       "      <td>558</td>\n",
       "      <td>458</td>\n",
       "      <td>335</td>\n",
       "      <td>245</td>\n",
       "      <td>217</td>\n",
       "      <td>573</td>\n",
       "      <td>219</td>\n",
       "    </tr>\n",
       "  </tbody>\n",
       "</table>\n",
       "</div>"
      ],
      "text/plain": [
       "Employemen Length  1 year  10+ years  2 years  3 years  4 years  5 years  6 years  7 years  8 years  9 years  < 1 year  n/a\n",
       "Loan Status                                                                                                                \n",
       "Charged Off           255        910      309      336      274      309      224      167      136       93       342  169\n",
       "Fully Paid            464       1632      659      583      560      558      458      335      245      217       573  219"
      ]
     },
     "execution_count": 29,
     "metadata": {},
     "output_type": "execute_result"
    }
   ],
   "source": [
    "pd.crosstab(index=df['Loan Status'],columns=[df['Employemen Length']])"
   ]
  },
  {
   "cell_type": "code",
   "execution_count": 30,
   "metadata": {
    "collapsed": false,
    "scrolled": true
   },
   "outputs": [
    {
     "data": {
      "text/html": [
       "<div>\n",
       "<table border=\"1\" class=\"dataframe\">\n",
       "  <thead>\n",
       "    <tr style=\"text-align: right;\">\n",
       "      <th></th>\n",
       "      <th>Verification Status</th>\n",
       "      <th>Not Verified</th>\n",
       "      <th>Source Verified</th>\n",
       "      <th>Verified</th>\n",
       "    </tr>\n",
       "    <tr>\n",
       "      <th>Employemen Length</th>\n",
       "      <th>Loan Status</th>\n",
       "      <th></th>\n",
       "      <th></th>\n",
       "      <th></th>\n",
       "    </tr>\n",
       "  </thead>\n",
       "  <tbody>\n",
       "    <tr>\n",
       "      <th rowspan=\"2\" valign=\"top\">1 year</th>\n",
       "      <th>Charged Off</th>\n",
       "      <td>88</td>\n",
       "      <td>89</td>\n",
       "      <td>78</td>\n",
       "    </tr>\n",
       "    <tr>\n",
       "      <th>Fully Paid</th>\n",
       "      <td>177</td>\n",
       "      <td>138</td>\n",
       "      <td>149</td>\n",
       "    </tr>\n",
       "    <tr>\n",
       "      <th rowspan=\"2\" valign=\"top\">10+ years</th>\n",
       "      <th>Charged Off</th>\n",
       "      <td>210</td>\n",
       "      <td>233</td>\n",
       "      <td>467</td>\n",
       "    </tr>\n",
       "    <tr>\n",
       "      <th>Fully Paid</th>\n",
       "      <td>448</td>\n",
       "      <td>435</td>\n",
       "      <td>749</td>\n",
       "    </tr>\n",
       "    <tr>\n",
       "      <th rowspan=\"2\" valign=\"top\">2 years</th>\n",
       "      <th>Charged Off</th>\n",
       "      <td>93</td>\n",
       "      <td>114</td>\n",
       "      <td>102</td>\n",
       "    </tr>\n",
       "    <tr>\n",
       "      <th>Fully Paid</th>\n",
       "      <td>227</td>\n",
       "      <td>201</td>\n",
       "      <td>231</td>\n",
       "    </tr>\n",
       "    <tr>\n",
       "      <th rowspan=\"2\" valign=\"top\">3 years</th>\n",
       "      <th>Charged Off</th>\n",
       "      <td>99</td>\n",
       "      <td>131</td>\n",
       "      <td>106</td>\n",
       "    </tr>\n",
       "    <tr>\n",
       "      <th>Fully Paid</th>\n",
       "      <td>215</td>\n",
       "      <td>173</td>\n",
       "      <td>195</td>\n",
       "    </tr>\n",
       "    <tr>\n",
       "      <th rowspan=\"2\" valign=\"top\">4 years</th>\n",
       "      <th>Charged Off</th>\n",
       "      <td>75</td>\n",
       "      <td>84</td>\n",
       "      <td>115</td>\n",
       "    </tr>\n",
       "    <tr>\n",
       "      <th>Fully Paid</th>\n",
       "      <td>196</td>\n",
       "      <td>155</td>\n",
       "      <td>209</td>\n",
       "    </tr>\n",
       "    <tr>\n",
       "      <th rowspan=\"2\" valign=\"top\">5 years</th>\n",
       "      <th>Charged Off</th>\n",
       "      <td>100</td>\n",
       "      <td>98</td>\n",
       "      <td>111</td>\n",
       "    </tr>\n",
       "    <tr>\n",
       "      <th>Fully Paid</th>\n",
       "      <td>203</td>\n",
       "      <td>159</td>\n",
       "      <td>196</td>\n",
       "    </tr>\n",
       "    <tr>\n",
       "      <th rowspan=\"2\" valign=\"top\">6 years</th>\n",
       "      <th>Charged Off</th>\n",
       "      <td>63</td>\n",
       "      <td>68</td>\n",
       "      <td>93</td>\n",
       "    </tr>\n",
       "    <tr>\n",
       "      <th>Fully Paid</th>\n",
       "      <td>150</td>\n",
       "      <td>131</td>\n",
       "      <td>177</td>\n",
       "    </tr>\n",
       "    <tr>\n",
       "      <th rowspan=\"2\" valign=\"top\">7 years</th>\n",
       "      <th>Charged Off</th>\n",
       "      <td>46</td>\n",
       "      <td>48</td>\n",
       "      <td>73</td>\n",
       "    </tr>\n",
       "    <tr>\n",
       "      <th>Fully Paid</th>\n",
       "      <td>118</td>\n",
       "      <td>93</td>\n",
       "      <td>124</td>\n",
       "    </tr>\n",
       "    <tr>\n",
       "      <th rowspan=\"2\" valign=\"top\">8 years</th>\n",
       "      <th>Charged Off</th>\n",
       "      <td>39</td>\n",
       "      <td>32</td>\n",
       "      <td>65</td>\n",
       "    </tr>\n",
       "    <tr>\n",
       "      <th>Fully Paid</th>\n",
       "      <td>83</td>\n",
       "      <td>60</td>\n",
       "      <td>102</td>\n",
       "    </tr>\n",
       "    <tr>\n",
       "      <th rowspan=\"2\" valign=\"top\">9 years</th>\n",
       "      <th>Charged Off</th>\n",
       "      <td>30</td>\n",
       "      <td>36</td>\n",
       "      <td>27</td>\n",
       "    </tr>\n",
       "    <tr>\n",
       "      <th>Fully Paid</th>\n",
       "      <td>72</td>\n",
       "      <td>56</td>\n",
       "      <td>89</td>\n",
       "    </tr>\n",
       "    <tr>\n",
       "      <th rowspan=\"2\" valign=\"top\">&lt; 1 year</th>\n",
       "      <th>Charged Off</th>\n",
       "      <td>69</td>\n",
       "      <td>159</td>\n",
       "      <td>114</td>\n",
       "    </tr>\n",
       "    <tr>\n",
       "      <th>Fully Paid</th>\n",
       "      <td>85</td>\n",
       "      <td>325</td>\n",
       "      <td>163</td>\n",
       "    </tr>\n",
       "    <tr>\n",
       "      <th rowspan=\"2\" valign=\"top\">n/a</th>\n",
       "      <th>Charged Off</th>\n",
       "      <td>49</td>\n",
       "      <td>33</td>\n",
       "      <td>87</td>\n",
       "    </tr>\n",
       "    <tr>\n",
       "      <th>Fully Paid</th>\n",
       "      <td>46</td>\n",
       "      <td>50</td>\n",
       "      <td>123</td>\n",
       "    </tr>\n",
       "  </tbody>\n",
       "</table>\n",
       "</div>"
      ],
      "text/plain": [
       "Verification Status            Not Verified  Source Verified  Verified\n",
       "Employemen Length Loan Status                                         \n",
       "1 year            Charged Off            88               89        78\n",
       "                  Fully Paid            177              138       149\n",
       "10+ years         Charged Off           210              233       467\n",
       "                  Fully Paid            448              435       749\n",
       "2 years           Charged Off            93              114       102\n",
       "                  Fully Paid            227              201       231\n",
       "3 years           Charged Off            99              131       106\n",
       "                  Fully Paid            215              173       195\n",
       "4 years           Charged Off            75               84       115\n",
       "                  Fully Paid            196              155       209\n",
       "5 years           Charged Off           100               98       111\n",
       "                  Fully Paid            203              159       196\n",
       "6 years           Charged Off            63               68        93\n",
       "                  Fully Paid            150              131       177\n",
       "7 years           Charged Off            46               48        73\n",
       "                  Fully Paid            118               93       124\n",
       "8 years           Charged Off            39               32        65\n",
       "                  Fully Paid             83               60       102\n",
       "9 years           Charged Off            30               36        27\n",
       "                  Fully Paid             72               56        89\n",
       "< 1 year          Charged Off            69              159       114\n",
       "                  Fully Paid             85              325       163\n",
       "n/a               Charged Off            49               33        87\n",
       "                  Fully Paid             46               50       123"
      ]
     },
     "execution_count": 30,
     "metadata": {},
     "output_type": "execute_result"
    }
   ],
   "source": [
    "pd.crosstab(index=[df['Employemen Length'],df['Loan Status']],columns=[df['Verification Status']])"
   ]
  },
  {
   "cell_type": "markdown",
   "metadata": {},
   "source": [
    "##### From the above two code snippets, Surprisingly Employemen Length and Verification Status are not valuable indicators for Loans being Charged Off. Observed random behaviour"
   ]
  },
  {
   "cell_type": "code",
   "execution_count": 31,
   "metadata": {
    "collapsed": false,
    "scrolled": true
   },
   "outputs": [
    {
     "data": {
      "text/html": [
       "<div>\n",
       "<table border=\"1\" class=\"dataframe\">\n",
       "  <thead>\n",
       "    <tr style=\"text-align: right;\">\n",
       "      <th>Loan Status</th>\n",
       "      <th>Address State</th>\n",
       "      <th>Charged Off</th>\n",
       "      <th>Fully Paid</th>\n",
       "      <th>Chg off/Paid</th>\n",
       "    </tr>\n",
       "  </thead>\n",
       "  <tbody>\n",
       "    <tr>\n",
       "      <th>27</th>\n",
       "      <td>NV</td>\n",
       "      <td>70</td>\n",
       "      <td>77</td>\n",
       "      <td>0.909091</td>\n",
       "    </tr>\n",
       "    <tr>\n",
       "      <th>0</th>\n",
       "      <td>AK</td>\n",
       "      <td>12</td>\n",
       "      <td>15</td>\n",
       "      <td>0.800000</td>\n",
       "    </tr>\n",
       "    <tr>\n",
       "      <th>26</th>\n",
       "      <td>NM</td>\n",
       "      <td>20</td>\n",
       "      <td>26</td>\n",
       "      <td>0.769231</td>\n",
       "    </tr>\n",
       "    <tr>\n",
       "      <th>18</th>\n",
       "      <td>MI</td>\n",
       "      <td>67</td>\n",
       "      <td>88</td>\n",
       "      <td>0.761364</td>\n",
       "    </tr>\n",
       "    <tr>\n",
       "      <th>17</th>\n",
       "      <td>MD</td>\n",
       "      <td>104</td>\n",
       "      <td>145</td>\n",
       "      <td>0.717241</td>\n",
       "    </tr>\n",
       "  </tbody>\n",
       "</table>\n",
       "</div>"
      ],
      "text/plain": [
       "Loan Status Address State  Charged Off  Fully Paid  Chg off/Paid\n",
       "27                     NV           70          77      0.909091\n",
       "0                      AK           12          15      0.800000\n",
       "26                     NM           20          26      0.769231\n",
       "18                     MI           67          88      0.761364\n",
       "17                     MD          104         145      0.717241"
      ]
     },
     "execution_count": 31,
     "metadata": {},
     "output_type": "execute_result"
    }
   ],
   "source": [
    "#Lets look at Charged Offs by States\n",
    "states = pd.crosstab(index=df['Address State'],columns=[df['Loan Status']]).reset_index()\n",
    "states['Chg off/Paid'] = states['Charged Off']/ states['Fully Paid']\n",
    "states.sort(['Chg off/Paid'], ascending=False).head()"
   ]
  },
  {
   "cell_type": "markdown",
   "metadata": {},
   "source": [
    "##### The above states have resulted in high percentage of Charged Off Loans compared to Fully Paid loans\n",
    "###### Refer to Graph below for all the states"
   ]
  },
  {
   "cell_type": "code",
   "execution_count": 33,
   "metadata": {
    "collapsed": false
   },
   "outputs": [
    {
     "data": {
      "text/plain": [
       "<matplotlib.axes._subplots.AxesSubplot at 0xe6d3438>"
      ]
     },
     "execution_count": 33,
     "metadata": {},
     "output_type": "execute_result"
    },
    {
     "data": {
      "image/png": "[encoded data removed]",
      "text/plain": [
       "<matplotlib.figure.Figure at 0xe3705f8>"
      ]
     },
     "metadata": {},
     "output_type": "display_data"
    }
   ],
   "source": [
    "pd.crosstab(index=[df['Address State']],columns=df['Loan Status']).plot(kind=\"bar\", figsize=(16,6),stacked=False,ylim = [0,1200])"
   ]
  },
  {
   "cell_type": "code",
   "execution_count": null,
   "metadata": {
    "collapsed": true
   },
   "outputs": [],
   "source": []
  }
 ],
 "metadata": {
  "anaconda-cloud": {},
  "kernelspec": {
   "display_name": "Python [Anaconda2]",
   "language": "python",
   "name": "Python [Anaconda2]"
  },
  "language_info": {
   "codemirror_mode": {
    "name": "ipython",
    "version": 2
   },
   "file_extension": ".py",
   "mimetype": "text/x-python",
   "name": "python",
   "nbconvert_exporter": "python",
   "pygments_lexer": "ipython2",
   "version": "2.7.12"
  }
 },
 "nbformat": 4,
 "nbformat_minor": 0
}
